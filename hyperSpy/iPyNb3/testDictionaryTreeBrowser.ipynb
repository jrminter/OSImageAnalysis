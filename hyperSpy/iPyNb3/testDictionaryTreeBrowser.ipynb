{
 "cells": [
  {
   "cell_type": "code",
   "execution_count": 1,
   "metadata": {
    "collapsed": true
   },
   "outputs": [],
   "source": [
    "# This fixes problem with iPython3, Anaconda 2.2 on Windows\n",
    "import sys\n",
    "reload(sys)\n",
    "sys.setdefaultencoding('utf-8')\n",
    "print(sys.getdefaultencoding())\n",
    "import json\n",
    "# this is normal...\n",
    "from hyperspy.misc.utils import DictionaryTreeBrowser\n",
    "tree = DictionaryTreeBrowser()\n",
    "tree.set_item(\"Branch.Leaf1.color\", \"green\")\n",
    "tree.set_item(\"Branch.Leaf2.color\", \"brown\")\n",
    "tree.set_item(\"Branch.Leaf2.caterpillar\", True)\n",
    "tree.set_item(\"Branch.Leaf1.caterpillar\", False)"
   ]
  },
  {
   "cell_type": "code",
   "execution_count": 2,
   "metadata": {
    "collapsed": false
   },
   "outputs": [
    {
     "data": {
      "text/plain": [
       "└── Branch\n",
       "    ├── Leaf1\n",
       "    │   ├── caterpillar = False\n",
       "    │   └── color = green\n",
       "    └── Leaf2\n",
       "        ├── caterpillar = True\n",
       "        └── color = brown"
      ]
     },
     "execution_count": 2,
     "metadata": {},
     "output_type": "execute_result"
    }
   ],
   "source": [
    "tree"
   ]
  },
  {
   "cell_type": "code",
   "execution_count": 3,
   "metadata": {
    "collapsed": false
   },
   "outputs": [
    {
     "data": {
      "text/plain": [
       "├── Leaf1\n",
       "│   ├── caterpillar = False\n",
       "│   └── color = green\n",
       "└── Leaf2\n",
       "    ├── caterpillar = True\n",
       "    └── color = brown"
      ]
     },
     "execution_count": 3,
     "metadata": {},
     "output_type": "execute_result"
    }
   ],
   "source": [
    "tree.Branch"
   ]
  },
  {
   "cell_type": "code",
   "execution_count": 4,
   "metadata": {
    "collapsed": false
   },
   "outputs": [],
   "source": [
    "for label, leaf in tree.Branch:\n",
    "\tprint(\"%s is %s\" % (label, leaf.color))"
   ]
  },
  {
   "cell_type": "code",
   "execution_count": 5,
   "metadata": {
    "collapsed": false
   },
   "outputs": [
    {
     "data": {
      "text/plain": [
       "True"
      ]
     },
     "execution_count": 5,
     "metadata": {},
     "output_type": "execute_result"
    }
   ],
   "source": [
    "tree.Branch.Leaf2.caterpillar"
   ]
  },
  {
   "cell_type": "code",
   "execution_count": 6,
   "metadata": {
    "collapsed": false
   },
   "outputs": [
    {
     "data": {
      "text/plain": [
       "True"
      ]
     },
     "execution_count": 6,
     "metadata": {},
     "output_type": "execute_result"
    }
   ],
   "source": [
    "\"Leaf1\" in tree.Branch"
   ]
  },
  {
   "cell_type": "code",
   "execution_count": 7,
   "metadata": {
    "collapsed": false
   },
   "outputs": [
    {
     "data": {
      "text/plain": [
       "True"
      ]
     },
     "execution_count": 7,
     "metadata": {},
     "output_type": "execute_result"
    }
   ],
   "source": [
    "\"Leaf1\" in tree.Branch"
   ]
  },
  {
   "cell_type": "code",
   "execution_count": null,
   "metadata": {
    "collapsed": true
   },
   "outputs": [],
   "source": []
  }
 ],
 "metadata": {
  "kernelspec": {
   "display_name": "Python 2",
   "language": "python",
   "name": "python2"
  },
  "language_info": {
   "codemirror_mode": {
    "name": "ipython",
    "version": 2
   },
   "file_extension": ".py",
   "mimetype": "text/x-python",
   "name": "python",
   "nbconvert_exporter": "python",
   "pygments_lexer": "ipython2",
   "version": "2.7.9"
  }
 },
 "nbformat": 4,
 "nbformat_minor": 0
}
