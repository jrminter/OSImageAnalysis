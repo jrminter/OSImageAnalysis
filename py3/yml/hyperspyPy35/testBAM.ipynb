{
 "cells": [
  {
   "cell_type": "markdown",
   "metadata": {},
   "source": [
    "# Analysis of BAM standard EDS-TM002\n",
    "\n",
    "Pierre Burdet noted that there is an exemplar data set in hyperspy.\n",
    "\n",
    "\n",
    "\n",
    "## 1.0 Analysis setup\n"
   ]
  },
  {
   "cell_type": "code",
   "execution_count": 1,
   "metadata": {
    "collapsed": false
   },
   "outputs": [
    {
     "name": "stdout",
     "output_type": "stream",
     "text": [
      "sys.version_info(major=3, minor=5, micro=1, releaselevel='final', serial=0)\n",
      "0.8.4\n"
     ]
    }
   ],
   "source": [
    "%matplotlib inline\n",
    "import os\n",
    "import sys\n",
    "import numpy as np\n",
    "import matplotlib.pyplot as plt\n",
    "import hyperspy.hspy as hs\n",
    "# import hyperspy.api as hs\n",
    "# set the default figure size\n",
    "plt.rcParams['figure.figsize'] = 11, 7\n",
    "\n",
    "print(sys.version_info)\n",
    "print(hs.__version__)\n",
    "\n",
    "bSaveSpectrum = False"
   ]
  },
  {
   "cell_type": "markdown",
   "metadata": {},
   "source": [
    "## 2.0 Load the data"
   ]
  },
  {
   "cell_type": "code",
   "execution_count": 2,
   "metadata": {
    "collapsed": false
   },
   "outputs": [
    {
     "data": {
      "text/plain": [
       "<EDSSEMSpectrum, title: EDS SEM Spectrum, dimensions: (|1024)>"
      ]
     },
     "execution_count": 2,
     "metadata": {},
     "output_type": "execute_result"
    }
   ],
   "source": [
    "spec = hs.example_signals.EDS_SEM_Spectrum()\n",
    "spec"
   ]
  },
  {
   "cell_type": "code",
   "execution_count": 3,
   "metadata": {
    "collapsed": false
   },
   "outputs": [
    {
     "data": {
      "text/plain": [
       "├── Acquisition_instrument\n",
       "│   └── SEM\n",
       "│       ├── Detector\n",
       "│       │   └── EDS\n",
       "│       │       ├── azimuth_angle = 0.0\n",
       "│       │       ├── detector = X-max 80 Oxford Instrument\n",
       "│       │       ├── elevation_angle = 37.0\n",
       "│       │       ├── energy_resolution_MnKa = 130.0\n",
       "│       │       ├── live_time = 19.997292000000002\n",
       "│       │       └── real_time = 39.593744999999998\n",
       "│       ├── beam_current = 0.0\n",
       "│       ├── beam_energy = 10.0\n",
       "│       ├── microscope = Nvision40 Carl Zeiss\n",
       "│       └── tilt_stage = 0.0\n",
       "├── General\n",
       "│   ├── original_filename = 1D_EDS_SEM_Spectrum.msa\n",
       "│   └── title = EDS SEM Spectrum\n",
       "├── Sample\n",
       "│   ├── description = EDS-TM002 from BAM (www.webshop.bam.de)\n",
       "│   └── elements = array(['Al', 'C', 'Cu', 'Mn', 'Zr'], \n",
       "      dtype='<U2')\n",
       "└── Signal\n",
       "    ├── binned = True\n",
       "    ├── record_by = spectrum\n",
       "    ├── signal_origin = \n",
       "    └── signal_type = EDS_SEM"
      ]
     },
     "execution_count": 3,
     "metadata": {},
     "output_type": "execute_result"
    }
   ],
   "source": [
    "spec.metadata"
   ]
  },
  {
   "cell_type": "code",
   "execution_count": 4,
   "metadata": {
    "collapsed": false
   },
   "outputs": [
    {
     "name": "stdout",
     "output_type": "stream",
     "text": [
      "Al_Ka line added,\n",
      "Ar_Ka line added,\n",
      "C_Ka line added,\n",
      "Cu_La line added,\n",
      "Mn_La line added,\n",
      "Zr_La line added,\n",
      "Mn_Ka line added,\n"
     ]
    },
    {
     "data": {
      "text/plain": [
       "['Al', 'Ar', 'C', 'Cu', 'Mn', 'Zr']"
      ]
     },
     "execution_count": 4,
     "metadata": {},
     "output_type": "execute_result"
    }
   ],
   "source": [
    "spec.metadata.General.title=\"BAM EDS-TM002 10 kV\"\n",
    "spec.add_elements(['Ar']) # it is sputtered...\n",
    "spec.add_lines()\n",
    "spec.add_lines(['Mn_Ka'])\n",
    "spec.metadata.Sample.elements"
   ]
  },
  {
   "cell_type": "code",
   "execution_count": 5,
   "metadata": {
    "collapsed": false
   },
   "outputs": [
    {
     "data": {
      "text/plain": [
       "['Al', 'Ar', 'C', 'Cu', 'Mn', 'Zr']"
      ]
     },
     "execution_count": 5,
     "metadata": {},
     "output_type": "execute_result"
    }
   ],
   "source": [
    "spec.metadata.Sample.elements"
   ]
  },
  {
   "cell_type": "code",
   "execution_count": 6,
   "metadata": {
    "collapsed": false
   },
   "outputs": [
    {
     "data": {
      "image/png": "[encoded data removed]",
      "text/plain": [
       "<matplotlib.figure.Figure at 0xb3ecb00>"
      ]
     },
     "metadata": {},
     "output_type": "display_data"
    }
   ],
   "source": [
    "spec.isig[0:700].plot(True)"
   ]
  },
  {
   "cell_type": "markdown",
   "metadata": {},
   "source": [
    "Save the file in MSA format"
   ]
  },
  {
   "cell_type": "code",
   "execution_count": 7,
   "metadata": {
    "collapsed": false
   },
   "outputs": [],
   "source": [
    "if bSaveSpectrum:\n",
    "    spec.save(\"qm-04372-EDS-TM002-10kV.msa\")"
   ]
  }
 ],
 "metadata": {
  "kernelspec": {
   "display_name": "Python 3",
   "language": "python",
   "name": "python3"
  },
  "language_info": {
   "codemirror_mode": {
    "name": "ipython",
    "version": 3
   },
   "file_extension": ".py",
   "mimetype": "text/x-python",
   "name": "python",
   "nbconvert_exporter": "python",
   "pygments_lexer": "ipython3",
   "version": "3.5.1"
  }
 },
 "nbformat": 4,
 "nbformat_minor": 0
}
