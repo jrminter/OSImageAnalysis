{
 "cells": [
  {
   "cell_type": "markdown",
   "metadata": {},
   "source": [
    "# Test reading TIFF metadata written by Image J\n",
    "\n",
    "Goal is to test reading TIF metadata from files where I wrote it using Fiji/ImageJ"
   ]
  },
  {
   "cell_type": "code",
   "execution_count": 1,
   "metadata": {
    "collapsed": true
   },
   "outputs": [],
   "source": [
    "%matplotlib inline\n",
    "import os, math\n",
    "import numpy as np\n",
    "import matplotlib.pyplot as plt\n",
    "from scipy import ndimage\n",
    "import warnings\n",
    "from skimage.external.tifffile import imsave, TiffFile\n",
    "\n",
    "# warnings.filterwarnings('ignore')\n"
   ]
  },
  {
   "cell_type": "code",
   "execution_count": 2,
   "metadata": {
    "collapsed": false
   },
   "outputs": [
    {
     "data": {
      "text/plain": [
       "'/Users/jrminter/git/OSImageAnalysis/images/noz-with-Fiji-metadata.tif'"
      ]
     },
     "execution_count": 2,
     "metadata": {},
     "output_type": "execute_result"
    }
   ],
   "source": [
    "gitDir = os.environ['GIT_HOME']\n",
    "semImgPth = gitDir + os.sep + 'OSImageAnalysis' + os.sep \n",
    "semImgPth +=  'images' + os.sep + 'noz-with-Fiji-metadata.tif'\n",
    "semImgPth"
   ]
  },
  {
   "cell_type": "markdown",
   "metadata": {},
   "source": [
    "Christoph Gohlke provided this exemplar [here](http://www.lfd.uci.edu/~gohlke/code/tifffile.py.html). Note that I can read the scale and comment information that I wrote into the ImageJ metadata!"
   ]
  },
  {
   "cell_type": "code",
   "execution_count": 3,
   "metadata": {
    "collapsed": false
   },
   "outputs": [
    {
     "name": "stdout",
     "output_type": "stream",
     "text": [
      "Unit \\u00B5m\n",
      "Comment \u0000\u0000\u0000\u0001\u0000M\u0000i\u0000c\u0000r\u0000o\u0000s\u0000c\u0000o\u0000p\u0000e\u0000:\u0000 \u0000F\u0000E\u0000I\u0000 \u0000S\u0000i\u0000r\u0000i\u0000o\u0000n\u0000 \u0000D\u00005\u00005\u00005\u00007\u0000 \u0000S\u0000o\u0000f\u0000t\u0000w\u0000a\u0000r\u0000e\u0000:\u0000 \u0000a\u0000n\u0000a\u0000l\u0000y\u0000S\u0000I\u0000S\u0000 \u00005\u0000.\u00000\u0000,\u0000 \u0000U\u0000s\u0000e\u0000r\u0000:\u0000 \u0000J\u0000.\u0000 \u0000R\u0000.\u0000 \u0000M\u0000i\u0000n\u0000t\u0000e\u0000r\u0000, \u00001\u00005\u0000 \u0000k\u0000V\u0000,\u0000 \u0000S\u00003\u0000,\u0000 \u00005\u0000 \u0000m\u0000m\u0000,\u0000 \u0000U\u0000H\u0000R\u0000 \u0000E\u0000H\u0000T\u0000,\u0000 \u0000p\u0000l\u0000a\u0000n\u0000a\u0000r\u0000-\u00000\u00002\u0000 \u0000D\u0000O\u0000E\u0000-\u0000s\u0000t\u0000d\u0000 \u0000c\u0000h\u0000e\u0000m\u0000-\u0000e\u0000t\u0000c\u0000h\n",
      "ScaleY 0.058378510029807484\n",
      "ScaleX 0.05965240306126588\n"
     ]
    }
   ],
   "source": [
    "with TiffFile(semImgPth) as tif:\n",
    "    images = tif.asarray()\n",
    "    for page in tif:\n",
    "        for tag in page.tags.values():\n",
    "            t = tag.name, tag.value\n",
    "            image = page.asarray()\n",
    "            if(t[0] == 'image_description'):\n",
    "                x = t[1]\n",
    "                y = x.decode(\"utf-8\")\n",
    "                # print(t[0], y )\n",
    "                z = y.split('\\n')\n",
    "                w = z[1].split('=')\n",
    "                unit = w[1]\n",
    "                print('Unit', unit)\n",
    "            if (t[0] == 'imagej_metadata'):\n",
    "                x = t[1]\n",
    "                y =  x.decode(\"utf-8\")\n",
    "                z = y.split('IJIJinfo')\n",
    "                comment = z[1]\n",
    "                comment = comment.replace('\\n',', ')\n",
    "                print('Comment', comment)\n",
    "            if (t[0] == 'x_resolution'):\n",
    "                x = t[1]\n",
    "                print(\"ScaleX\",(x[1]/x[0]))\n",
    "            if (t[0] == 'y_resolution'):\n",
    "                x = t[1]\n",
    "                print(\"ScaleY\",(x[1]/x[0]))\n",
    "\n"
   ]
  },
  {
   "cell_type": "code",
   "execution_count": 4,
   "metadata": {
    "collapsed": false
   },
   "outputs": [
    {
     "data": {
      "text/html": [
       "<style>\n",
       ".rendered_html {\n",
       "    font-family: Georgia, serif;\n",
       "    font-size: 130%;\n",
       "    line-height: 1.5;\n",
       "}\n",
       "\n",
       ".input {\n",
       "    width: 930px;\n",
       "}\n",
       "\n",
       ".inner_cell {\n",
       "    width: 800px;\n",
       "}\n",
       "\n",
       ".code_cell {\n",
       "    width: 800px;\n",
       "}\n",
       "\n",
       ".CodeMirror-sizer {\n",
       "}\n",
       "\n",
       "hr {\n",
       "    border: 1px solid #DDD;\n",
       "}\n",
       "\n",
       ".rendered_html h1 {\n",
       "    margin: 0.25em 0em 0.5em;\n",
       "    font-family: sans-serif;\n",
       "    color: #015C9C;\n",
       "    text-align: center;\n",
       "    line-height: 1.2;\n",
       "    page-break-before: always;\n",
       "}\n",
       "\n",
       ".rendered_html h2 {\n",
       "    margin: 1.1em 0em 0.5em;\n",
       "    font-family: sans-serif;\n",
       "    color: #26465D;\n",
       "    line-height: 1.2;\n",
       "}\n",
       "\n",
       ".rendered_html h3 {\n",
       "    font-family: sans-serif;\n",
       "    margin: 1.1em 0em 0.5em;\n",
       "    color: #002845;\n",
       "    line-height: 1.2;\n",
       "}\n",
       "\n",
       ".rendered_html li {\n",
       "    line-height: 1.5;\n",
       "}\n",
       "\n",
       ".CodeMirror-lines {\n",
       "    font-size: 110%;\n",
       "    line-height: 1.4em;\n",
       "    font-family: DejaVu Sans Mono, Consolas, Ubuntu, monospace;\n",
       "}\n",
       "\n",
       "h1.bigtitle {\n",
       "    margin: 4cm 1cm 4cm 1cm;\n",
       "    font-size: 300%;\n",
       "}\n",
       "\n",
       "h3.point {\n",
       "    font-size: 200%;\n",
       "    text-align: center;\n",
       "    margin: 2em 0em 2em 0em;\n",
       "    #26465D\n",
       "}\n",
       "\n",
       ".logo {\n",
       "    margin: 20px 0 20px 0;\n",
       "}\n",
       "\n",
       "a.anchor-link {\n",
       "    display: none;\n",
       "}\n",
       "\n",
       "h1.title {\n",
       "    font-size: 250%;\n",
       "}\n",
       "\n",
       ".exercize {\n",
       "    color: #738;\n",
       "}\n",
       "\n",
       "h2 .exercize {\n",
       "    font-style: italic;\n",
       "}\n",
       "\n",
       "</style>"
      ],
      "text/plain": [
       "<IPython.core.display.HTML object>"
      ]
     },
     "metadata": {},
     "output_type": "display_data"
    }
   ],
   "source": [
    "%reload_ext load_style\n",
    "%load_style ./themes/tutorial.css"
   ]
  },
  {
   "cell_type": "code",
   "execution_count": null,
   "metadata": {
    "collapsed": true
   },
   "outputs": [],
   "source": []
  }
 ],
 "metadata": {
  "kernelspec": {
   "display_name": "Python 3",
   "language": "python",
   "name": "python3"
  },
  "language_info": {
   "codemirror_mode": {
    "name": "ipython",
    "version": 3
   },
   "file_extension": ".py",
   "mimetype": "text/x-python",
   "name": "python",
   "nbconvert_exporter": "python",
   "pygments_lexer": "ipython3",
   "version": "3.5.1"
  }
 },
 "nbformat": 4,
 "nbformat_minor": 0
}
